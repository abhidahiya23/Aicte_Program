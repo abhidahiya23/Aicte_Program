{
 "cells": [
  {
   "cell_type": "markdown",
   "metadata": {},
   "source": [
    "# Module 3- Regression & Beta Calculation\n",
    "\n"
   ]
  },
  {
   "cell_type": "markdown",
   "metadata": {},
   "source": [
    "   ### Welcome to the Answer notebook for Module 3 ! \n",
    "Make sure that you've submitted the module 2 notebook and unlocked Module 3 yourself before you start coding here\n"
   ]
  },
  {
   "cell_type": "markdown",
   "metadata": {},
   "source": [
    "#--------------------------------------------------------------------------------------------------------------------------------------------------------------------------------------------------------#"
   ]
  },
  {
   "cell_type": "markdown",
   "metadata": {},
   "source": [
    "### Query 3.1 \n",
    "Import the file 'gold.csv', which is contains the data about last 2 years price action of Indian(MCX) gold standard. Explore the dataframe. You'd see 2 unique columns - 'Pred' and 'new'.\n",
    "\n",
    "One of the 2 columns is a linear combination of the OHLC prices with varying coefficients while the other is a polynomial fucntion of the same inputs. Also, one of the 2 columns is partially filled.\n",
    "\n",
    ">Using linear regression, find the coefficients of the inputs and using the same trained model, complete the\n",
    "      entire column.\n",
    "      \n",
    ">Also, try to fit the other column as well using a new linear regression model. Check if the predicitons are \n",
    "      accurate.\n",
    "      Mention which column is a linear function and which is a polynomial function.\n",
    "      (Hint: Plotting a histogram & distplot helps in recognizing the  discrepencies in prediction, if any.)"
   ]
  },
  {
   "cell_type": "code",
   "execution_count": 1,
   "metadata": {},
   "outputs": [],
   "source": [
    "import pandas as pd\n",
    "import matplotlib.pyplot as plt\n",
    "import numpy as np"
   ]
  },
  {
   "cell_type": "code",
   "execution_count": 2,
   "metadata": {},
   "outputs": [],
   "source": [
    "gold = pd.read_csv(\"../DataSet/Gold/GOLD.csv\")"
   ]
  },
  {
   "cell_type": "code",
   "execution_count": 9,
   "metadata": {},
   "outputs": [
    {
     "name": "stdout",
     "output_type": "stream",
     "text": [
      "(512, 9)\n"
     ]
    },
    {
     "data": {
      "text/html": [
       "<div>\n",
       "<style scoped>\n",
       "    .dataframe tbody tr th:only-of-type {\n",
       "        vertical-align: middle;\n",
       "    }\n",
       "\n",
       "    .dataframe tbody tr th {\n",
       "        vertical-align: top;\n",
       "    }\n",
       "\n",
       "    .dataframe thead th {\n",
       "        text-align: right;\n",
       "    }\n",
       "</style>\n",
       "<table border=\"1\" class=\"dataframe\">\n",
       "  <thead>\n",
       "    <tr style=\"text-align: right;\">\n",
       "      <th></th>\n",
       "      <th>Date</th>\n",
       "      <th>Price</th>\n",
       "      <th>Open</th>\n",
       "      <th>High</th>\n",
       "      <th>Low</th>\n",
       "      <th>Vol.</th>\n",
       "      <th>Change %</th>\n",
       "      <th>Pred</th>\n",
       "      <th>new</th>\n",
       "    </tr>\n",
       "  </thead>\n",
       "  <tbody>\n",
       "    <tr>\n",
       "      <th>0</th>\n",
       "      <td>May 04, 2017</td>\n",
       "      <td>28060</td>\n",
       "      <td>28400</td>\n",
       "      <td>28482</td>\n",
       "      <td>28025</td>\n",
       "      <td>0.08K</td>\n",
       "      <td>-1.79%</td>\n",
       "      <td>738.0</td>\n",
       "      <td>117.570740</td>\n",
       "    </tr>\n",
       "    <tr>\n",
       "      <th>1</th>\n",
       "      <td>May 05, 2017</td>\n",
       "      <td>28184</td>\n",
       "      <td>28136</td>\n",
       "      <td>28382</td>\n",
       "      <td>28135</td>\n",
       "      <td>0.06K</td>\n",
       "      <td>0.44%</td>\n",
       "      <td>-146.0</td>\n",
       "      <td>295.430176</td>\n",
       "    </tr>\n",
       "    <tr>\n",
       "      <th>2</th>\n",
       "      <td>May 08, 2017</td>\n",
       "      <td>28119</td>\n",
       "      <td>28145</td>\n",
       "      <td>28255</td>\n",
       "      <td>28097</td>\n",
       "      <td>7.85K</td>\n",
       "      <td>-0.23%</td>\n",
       "      <td>30.0</td>\n",
       "      <td>132.123714</td>\n",
       "    </tr>\n",
       "    <tr>\n",
       "      <th>3</th>\n",
       "      <td>May 09, 2017</td>\n",
       "      <td>27981</td>\n",
       "      <td>28125</td>\n",
       "      <td>28192</td>\n",
       "      <td>27947</td>\n",
       "      <td>10.10K</td>\n",
       "      <td>-0.49%</td>\n",
       "      <td>357.0</td>\n",
       "      <td>101.298064</td>\n",
       "    </tr>\n",
       "    <tr>\n",
       "      <th>4</th>\n",
       "      <td>May 10, 2017</td>\n",
       "      <td>28007</td>\n",
       "      <td>28060</td>\n",
       "      <td>28146</td>\n",
       "      <td>27981</td>\n",
       "      <td>9.28K</td>\n",
       "      <td>0.09%</td>\n",
       "      <td>124.0</td>\n",
       "      <td>112.153318</td>\n",
       "    </tr>\n",
       "  </tbody>\n",
       "</table>\n",
       "</div>"
      ],
      "text/plain": [
       "           Date  Price   Open   High    Low    Vol. Change %   Pred  \\\n",
       "0  May 04, 2017  28060  28400  28482  28025   0.08K   -1.79%  738.0   \n",
       "1  May 05, 2017  28184  28136  28382  28135   0.06K    0.44% -146.0   \n",
       "2  May 08, 2017  28119  28145  28255  28097   7.85K   -0.23%   30.0   \n",
       "3  May 09, 2017  27981  28125  28192  27947  10.10K   -0.49%  357.0   \n",
       "4  May 10, 2017  28007  28060  28146  27981   9.28K    0.09%  124.0   \n",
       "\n",
       "          new  \n",
       "0  117.570740  \n",
       "1  295.430176  \n",
       "2  132.123714  \n",
       "3  101.298064  \n",
       "4  112.153318  "
      ]
     },
     "execution_count": 9,
     "metadata": {},
     "output_type": "execute_result"
    }
   ],
   "source": [
    "print(gold.shape)\n",
    "gold.head()"
   ]
  },
  {
   "cell_type": "code",
   "execution_count": 6,
   "metadata": {},
   "outputs": [
    {
     "name": "stdout",
     "output_type": "stream",
     "text": [
      "<class 'pandas.core.frame.DataFrame'>\n",
      "RangeIndex: 512 entries, 0 to 511\n",
      "Data columns (total 9 columns):\n",
      "Date        512 non-null object\n",
      "Price       512 non-null int64\n",
      "Open        512 non-null int64\n",
      "High        512 non-null int64\n",
      "Low         512 non-null int64\n",
      "Vol.        512 non-null object\n",
      "Change %    512 non-null object\n",
      "Pred        411 non-null float64\n",
      "new         512 non-null float64\n",
      "dtypes: float64(2), int64(4), object(3)\n",
      "memory usage: 36.1+ KB\n"
     ]
    }
   ],
   "source": [
    "gold.info()"
   ]
  },
  {
   "cell_type": "code",
   "execution_count": 35,
   "metadata": {},
   "outputs": [],
   "source": [
    "train = gold[:411]\n",
    "test  = gold[411:]"
   ]
  },
  {
   "cell_type": "code",
   "execution_count": 38,
   "metadata": {},
   "outputs": [],
   "source": [
    "colums = ['Open','High','Low','Price']\n",
    "X_train = train[colums]\n",
    "Y_train = train['new']\n",
    "\n",
    "X_test = test[colums]\n",
    "Y_test = test['new']"
   ]
  },
  {
   "cell_type": "code",
   "execution_count": 31,
   "metadata": {},
   "outputs": [],
   "source": [
    "from sklearn.linear_model import LinearRegression"
   ]
  },
  {
   "cell_type": "code",
   "execution_count": 49,
   "metadata": {},
   "outputs": [],
   "source": [
    "lr = LinearRegression()\n",
    "lr2 = LinearRegression()"
   ]
  },
  {
   "cell_type": "code",
   "execution_count": 60,
   "metadata": {},
   "outputs": [
    {
     "data": {
      "text/plain": [
       "LinearRegression(copy_X=True, fit_intercept=True, n_jobs=None,\n",
       "         normalize=False)"
      ]
     },
     "execution_count": 60,
     "metadata": {},
     "output_type": "execute_result"
    }
   ],
   "source": [
    "lr.fit(X_train,train['Pred'])"
   ]
  },
  {
   "cell_type": "code",
   "execution_count": 61,
   "metadata": {},
   "outputs": [
    {
     "name": "stdout",
     "output_type": "stream",
     "text": [
      "[ 3. -1. -4.  2.]\n"
     ]
    }
   ],
   "source": [
    "# coeff of the model inputs\n",
    "print(lr.coef_)"
   ]
  },
  {
   "cell_type": "code",
   "execution_count": 55,
   "metadata": {},
   "outputs": [
    {
     "name": "stderr",
     "output_type": "stream",
     "text": [
      "/home/abhishek/.local/lib/python2.7/site-packages/ipykernel_launcher.py:1: SettingWithCopyWarning: \n",
      "A value is trying to be set on a copy of a slice from a DataFrame.\n",
      "Try using .loc[row_indexer,col_indexer] = value instead\n",
      "\n",
      "See the caveats in the documentation: http://pandas.pydata.org/pandas-docs/stable/indexing.html#indexing-view-versus-copy\n",
      "  \"\"\"Entry point for launching an IPython kernel.\n"
     ]
    }
   ],
   "source": [
    "# predicting the missing values using the trained model\n",
    "test['Pred']=lr.predict(X_test)"
   ]
  },
  {
   "cell_type": "code",
   "execution_count": 85,
   "metadata": {},
   "outputs": [],
   "source": [
    "#test['Pred']"
   ]
  },
  {
   "cell_type": "code",
   "execution_count": 62,
   "metadata": {},
   "outputs": [
    {
     "data": {
      "text/plain": [
       "LinearRegression(copy_X=True, fit_intercept=True, n_jobs=None,\n",
       "         normalize=False)"
      ]
     },
     "execution_count": 62,
     "metadata": {},
     "output_type": "execute_result"
    }
   ],
   "source": [
    "# new Linear Regession model\n",
    "lr2.fit(X_train,Y_train)"
   ]
  },
  {
   "cell_type": "code",
   "execution_count": 65,
   "metadata": {},
   "outputs": [
    {
     "name": "stdout",
     "output_type": "stream",
     "text": [
      "99.99683016109175\n"
     ]
    }
   ],
   "source": [
    "# Checking the accuraccy of predictions\n",
    "print(100*lr2.score(X_test,Y_test))"
   ]
  },
  {
   "cell_type": "code",
   "execution_count": 54,
   "metadata": {},
   "outputs": [
    {
     "name": "stdout",
     "output_type": "stream",
     "text": [
      "(4.604316927725449e-12, -0.21616304406879294)\n"
     ]
    }
   ],
   "source": [
    "print(lr.intercept_,lr2.intercept_)\n",
    "# as intercept of 'Pred' column is exponential. Therfore, it is exponential.\n",
    "# as intercept of 'new' column is number. Therfore, it is linear."
   ]
  },
  {
   "cell_type": "code",
   "execution_count": 66,
   "metadata": {},
   "outputs": [],
   "source": [
    "import seaborn as sns"
   ]
  },
  {
   "cell_type": "code",
   "execution_count": 86,
   "metadata": {},
   "outputs": [
    {
     "data": {
      "image/png": "[encoded data removed]",
      "text/plain": [
       "<Figure size 432x288 with 1 Axes>"
      ]
     },
     "metadata": {
      "needs_background": "light"
     },
     "output_type": "display_data"
    }
   ],
   "source": [
    "sns.distplot(test['Pred'],rug=True)\n",
    "plt.show()"
   ]
  },
  {
   "cell_type": "markdown",
   "metadata": {},
   "source": [
    "CAPM CAPM Analysis and Beta Calculation using regression - \n",
    "CAPM(Capital Asset Pricing Model) attempts to price securities by examining the relationship that exists between expected returns and risk. \n",
    "Read more about CAPM. (Investopedia CAPM reference) \n",
    "The Beta of an asset is a measure of the sensitivity of its returns relative to a market benchmark (usually a market index). How sensitive/insensitive is the returns of an asset to the overall market returns (usually a market index like S&P 500 index). What happens when the market jumps, does the returns of the asset jump accordingly or jump somehow? \n",
    "Read more about Beta (Investopedia Beta reference)"
   ]
  },
  {
   "cell_type": "markdown",
   "metadata": {},
   "source": [
    "# Query 3.2"
   ]
  },
  {
   "cell_type": "markdown",
   "metadata": {},
   "source": [
    "3.2 Import the stock of your choosing AND the Nifty index. \n",
    "Using linear regression (OLS), calculate -\n",
    "The daily Beta value for the past 3 months. (Daily= Daily returns)\n",
    "The monthly Beta value. (Monthly= Monthly returns)\n",
    "Refrain from using the (covariance(x,y)/variance(x)) formula. \n",
    "Attempt the question using regression.(Regression Reference) \n",
    "Were the Beta values more or less than 1 ? What if it was negative ? \n",
    "Discuss. Include a brief writeup in the bottom of your jupyter notebook with your inferences from the Beta values and regression results\n"
   ]
  },
  {
   "cell_type": "code",
   "execution_count": 2,
   "metadata": {},
   "outputs": [],
   "source": [
    "jet = pd.read_csv(\"../DataSet/Small_Cap/JETAIRWAYS.csv\")\n",
    "nifty = pd.read_csv(\"../DataSet/Nifty50/Nifty50.csv\")"
   ]
  },
  {
   "cell_type": "code",
   "execution_count": 3,
   "metadata": {},
   "outputs": [],
   "source": [
    "my_dict = {'jet': [ix for ix in jet['Close Price']],\n",
    "           'nifty': [ix for ix in nifty['Close']]\n",
    "          }"
   ]
  },
  {
   "cell_type": "code",
   "execution_count": 13,
   "metadata": {},
   "outputs": [],
   "source": [
    "# Dataframe having all columns of close price\n",
    "Daily =pd.DataFrame(my_dict)"
   ]
  },
  {
   "cell_type": "code",
   "execution_count": 14,
   "metadata": {},
   "outputs": [],
   "source": [
    "# percent cahnge in values\n",
    "Daily_Pc = Daily.pct_change()"
   ]
  },
  {
   "cell_type": "code",
   "execution_count": 15,
   "metadata": {},
   "outputs": [],
   "source": [
    "# Removing NaN values\n",
    "Daily_Pc = Daily_Pc.dropna()"
   ]
  },
  {
   "cell_type": "code",
   "execution_count": 10,
   "metadata": {},
   "outputs": [],
   "source": [
    "import statsmodels.api as sm"
   ]
  },
  {
   "cell_type": "code",
   "execution_count": 56,
   "metadata": {},
   "outputs": [],
   "source": [
    "Daily_Pc['const'] = 1"
   ]
  },
  {
   "cell_type": "code",
   "execution_count": 63,
   "metadata": {},
   "outputs": [
    {
     "data": {
      "text/plain": [
       "statsmodels.regression.linear_model.OLS"
      ]
     },
     "execution_count": 63,
     "metadata": {},
     "output_type": "execute_result"
    }
   ],
   "source": [
    "reg1 = sm.OLS(endog=Daily_Pc['nifty'][-66:], exog=Daily_Pc[['const', 'jet']][-66:], missing='drop')\n",
    "type(reg1)"
   ]
  },
  {
   "cell_type": "code",
   "execution_count": 64,
   "metadata": {},
   "outputs": [
    {
     "data": {
      "text/plain": [
       "statsmodels.regression.linear_model.RegressionResultsWrapper"
      ]
     },
     "execution_count": 64,
     "metadata": {},
     "output_type": "execute_result"
    }
   ],
   "source": [
    "results = reg1.fit()\n",
    "type(results)"
   ]
  },
  {
   "cell_type": "code",
   "execution_count": 65,
   "metadata": {},
   "outputs": [
    {
     "name": "stdout",
     "output_type": "stream",
     "text": [
      "                            OLS Regression Results                            \n",
      "==============================================================================\n",
      "Dep. Variable:                  nifty   R-squared:                       0.007\n",
      "Model:                            OLS   Adj. R-squared:                 -0.009\n",
      "Method:                 Least Squares   F-statistic:                    0.4363\n",
      "Date:                Mon, 12 Aug 2019   Prob (F-statistic):              0.511\n",
      "Time:                        00:07:33   Log-Likelihood:                 235.90\n",
      "No. Observations:                  66   AIC:                            -467.8\n",
      "Df Residuals:                      64   BIC:                            -463.4\n",
      "Df Model:                           1                                         \n",
      "Covariance Type:            nonrobust                                         \n",
      "==============================================================================\n",
      "                 coef    std err          t      P>|t|      [0.025      0.975]\n",
      "------------------------------------------------------------------------------\n",
      "const          0.0005      0.001      0.612      0.543      -0.001       0.002\n",
      "jet            0.0098      0.015      0.661      0.511      -0.020       0.039\n",
      "==============================================================================\n",
      "Omnibus:                        4.233   Durbin-Watson:                   1.588\n",
      "Prob(Omnibus):                  0.120   Jarque-Bera (JB):                2.025\n",
      "Skew:                           0.051   Prob(JB):                        0.363\n",
      "Kurtosis:                       2.148   Cond. No.                         17.5\n",
      "==============================================================================\n",
      "\n",
      "Warnings:\n",
      "[1] Standard Errors assume that the covariance matrix of the errors is correctly specified.\n"
     ]
    }
   ],
   "source": [
    "print(results.summary())"
   ]
  },
  {
   "cell_type": "code",
   "execution_count": 118,
   "metadata": {},
   "outputs": [],
   "source": [
    "# Here beta(It is the slope of the above line)  is 0.0098 for last three months and intercept is 0.0005"
   ]
  },
  {
   "cell_type": "code",
   "execution_count": 171,
   "metadata": {},
   "outputs": [],
   "source": [
    "monthly_prices = pd.concat([jet['Close Price'], nifty['Close'],jet['Date']], axis=1)\n",
    "monthly_prices.columns = ['jet', 'nifty','Date']"
   ]
  },
  {
   "cell_type": "code",
   "execution_count": 172,
   "metadata": {},
   "outputs": [],
   "source": [
    "monthly_prices['Date'] = pd.to_datetime(monthly_prices['Date'])\n",
    "monthly_prices = monthly_prices.set_index('Date')"
   ]
  },
  {
   "cell_type": "code",
   "execution_count": 173,
   "metadata": {},
   "outputs": [],
   "source": [
    "monthly_prices = monthly_prices.pct_change().dropna()\n",
    "monthly_prices = monthly_prices.reset_index()"
   ]
  },
  {
   "cell_type": "code",
   "execution_count": 178,
   "metadata": {},
   "outputs": [
    {
     "data": {
      "text/plain": [
       "<pandas.core.groupby.generic.DataFrameGroupBy object at 0x7fb80be62290>"
      ]
     },
     "execution_count": 178,
     "metadata": {},
     "output_type": "execute_result"
    }
   ],
   "source": [
    "monthly_prices.groupby(by='Date')"
   ]
  },
  {
   "cell_type": "code",
   "execution_count": 183,
   "metadata": {},
   "outputs": [],
   "source": [
    "monthly_prices['const'] = 1"
   ]
  },
  {
   "cell_type": "code",
   "execution_count": 184,
   "metadata": {},
   "outputs": [
    {
     "name": "stdout",
     "output_type": "stream",
     "text": [
      "                            OLS Regression Results                            \n",
      "==============================================================================\n",
      "Dep. Variable:                  nifty   R-squared:                       0.043\n",
      "Model:                            OLS   Adj. R-squared:                  0.042\n",
      "Method:                 Least Squares   F-statistic:                     22.30\n",
      "Date:                Mon, 12 Aug 2019   Prob (F-statistic):           3.04e-06\n",
      "Time:                        01:51:04   Log-Likelihood:                 1743.8\n",
      "No. Observations:                 493   AIC:                            -3484.\n",
      "Df Residuals:                     491   BIC:                            -3475.\n",
      "Df Model:                           1                                         \n",
      "Covariance Type:            nonrobust                                         \n",
      "==============================================================================\n",
      "                 coef    std err          t      P>|t|      [0.025      0.975]\n",
      "------------------------------------------------------------------------------\n",
      "const          0.0004      0.000      1.368      0.172      -0.000       0.001\n",
      "jet            0.0382      0.008      4.723      0.000       0.022       0.054\n",
      "==============================================================================\n",
      "Omnibus:                       12.738   Durbin-Watson:                   1.872\n",
      "Prob(Omnibus):                  0.002   Jarque-Bera (JB):               17.072\n",
      "Skew:                          -0.245   Prob(JB):                     0.000196\n",
      "Kurtosis:                       3.769   Cond. No.                         25.4\n",
      "==============================================================================\n",
      "\n",
      "Warnings:\n",
      "[1] Standard Errors assume that the covariance matrix of the errors is correctly specified.\n"
     ]
    }
   ],
   "source": [
    "Monthly = sm.OLS(endog=monthly_prices['nifty'], exog=monthly_prices[['const', 'jet']], missing='drop')\n",
    "type(Monthly)\n",
    "Monthly_ret = Monthly.fit()\n",
    "type(Monthly_ret)\n",
    "print(Monthly_ret.summary())"
   ]
  },
  {
   "cell_type": "code",
   "execution_count": 185,
   "metadata": {},
   "outputs": [],
   "source": [
    "# Here beta(It is the slope of the above line)  is 0.0382 for last three months and intercept is 0.0004"
   ]
  },
  {
   "cell_type": "markdown",
   "metadata": {},
   "source": [
    "## Inference"
   ]
  },
  {
   "cell_type": "markdown",
   "metadata": {},
   "source": [
    "From the above evluation of the beta values and regression result.\n",
    "We found out that the Beta values are were positive and less than 1. Also if the Beta values are negative it means returns will decrease with the increasing Stock Price or vice-versa."
   ]
  }
 ],
 "metadata": {
  "kernelspec": {
   "display_name": "Python 3",
   "language": "python",
   "name": "python3"
  },
  "language_info": {
   "codemirror_mode": {
    "name": "ipython",
    "version": 2
   },
   "file_extension": ".py",
   "mimetype": "text/x-python",
   "name": "python",
   "nbconvert_exporter": "python",
   "pygments_lexer": "ipython2",
   "version": "2.7.15+"
  }
 },
 "nbformat": 4,
 "nbformat_minor": 2
}
